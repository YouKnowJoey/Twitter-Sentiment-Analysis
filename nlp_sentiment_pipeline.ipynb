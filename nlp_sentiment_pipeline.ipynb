{
 "cells": [
  {
   "cell_type": "markdown",
   "id": "e9804d85",
   "metadata": {},
   "source": [
    "# Twitter Sentiment Pipeline Introduction"
   ]
  },
  {
   "cell_type": "markdown",
   "id": "f20ed928",
   "metadata": {},
   "source": [
    "This project explores Natural Language Processing (NLP) techniques to analyze and classify the emotional tone and sentiment, expressed in social media text data in tweets from X (formerly Twitter). Using a combination of real-time data retrieval and supervised learning, we aim to build models that can accurately predict sentiment as positive or negative.\n",
    "\n",
    "We use the Sentiment140 dataset, accessed via Hugging Face Datasets, as our training and evaluation foundation. This dataset provides a large corpus of pre-labeled tweets, making it ideal for benchmarking model performance. Real-time tweets are fetched using the Tweepy library and authenticated access to the Twitter API.\n",
    "\n",
    "The main objective is to evaluate multiple machine learning classifiers such as Logistic Regression, Random Forest, and others-to determine which model performs best on the sentiment classification task."
   ]
  },
  {
   "cell_type": "markdown",
   "id": "d62e9b6e",
   "metadata": {},
   "source": [
    "## Data Pre-processing"
   ]
  },
  {
   "cell_type": "markdown",
   "id": "505f36c7",
   "metadata": {},
   "source": [
    "First, we will import the nessecary libraries used for the entire project. We will evaluate and reduce the dimensions of the imported data (via Hugging Face datasets).  "
   ]
  },
  {
   "cell_type": "code",
   "execution_count": 1,
   "id": "22999aa2",
   "metadata": {},
   "outputs": [
    {
     "name": "stderr",
     "output_type": "stream",
     "text": [
      "c:\\Users\\Joey\\.conda\\envs\\twitter-sentiment\\lib\\site-packages\\tqdm\\auto.py:21: TqdmWarning: IProgress not found. Please update jupyter and ipywidgets. See https://ipywidgets.readthedocs.io/en/stable/user_install.html\n",
      "  from .autonotebook import tqdm as notebook_tqdm\n"
     ]
    }
   ],
   "source": [
    "# Required imports\n",
    "\n",
    "import pandas as pd\n",
    "import numpy as np\n",
    "import matplotlib.pyplot as plt\n",
    "import seaborn as sns\n",
    "\n",
    "import re\n",
    "import string\n",
    "import nltk\n",
    "from nltk.corpus import stopwords\n",
    "from nltk.stem import WordNetLemmatizer\n",
    "\n",
    "from sklearn.linear_model import LogisticRegression\n",
    "from sklearn.naive_bayes import MultinomialNB\n",
    "from sklearn.svm import LinearSVC\n",
    "from sklearn.model_selection import GridSearchCV\n",
    "from sklearn.model_selection import train_test_split\n",
    "from sklearn.feature_extraction.text import TfidfVectorizer\n",
    "from sklearn.metrics import classification_report, confusion_matrix\n",
    "\n",
    "import datasets\n",
    "from twitter_pipeline import TwitterClient, TweetAnalyzer"
   ]
  },
  {
   "cell_type": "code",
   "execution_count": 2,
   "id": "793f999c",
   "metadata": {},
   "outputs": [
    {
     "name": "stdout",
     "output_type": "stream",
     "text": [
      "{'text': \"@switchfoot http://twitpic.com/2y1zl - Awww, that's a bummer.  You shoulda got David Carr of Third Day to do it. ;D\", 'date': 'Mon Apr 06 22:19:45 PDT 2009', 'user': '_TheSpecialOne_', 'sentiment': 0, 'query': 'NO_QUERY'}\n"
     ]
    }
   ],
   "source": [
    "### Load Training Data for models ###\n",
    "\n",
    "# Load Sentiment140 directly from Hugging Face datasets\n",
    "dataset = datasets.load_dataset(\"sentiment140\", trust_remote_code=True)\n",
    "\n",
    "df = dataset[\"train\"]\n",
    "\n",
    "print(df[0])"
   ]
  },
  {
   "cell_type": "code",
   "execution_count": 3,
   "id": "921e7d1a",
   "metadata": {},
   "outputs": [
    {
     "data": {
      "text/html": [
       "<div>\n",
       "<style scoped>\n",
       "    .dataframe tbody tr th:only-of-type {\n",
       "        vertical-align: middle;\n",
       "    }\n",
       "\n",
       "    .dataframe tbody tr th {\n",
       "        vertical-align: top;\n",
       "    }\n",
       "\n",
       "    .dataframe thead th {\n",
       "        text-align: right;\n",
       "    }\n",
       "</style>\n",
       "<table border=\"1\" class=\"dataframe\">\n",
       "  <thead>\n",
       "    <tr style=\"text-align: right;\">\n",
       "      <th></th>\n",
       "      <th>text</th>\n",
       "      <th>date</th>\n",
       "      <th>user</th>\n",
       "      <th>sentiment</th>\n",
       "      <th>query</th>\n",
       "      <th>label</th>\n",
       "    </tr>\n",
       "  </thead>\n",
       "  <tbody>\n",
       "    <tr>\n",
       "      <th>0</th>\n",
       "      <td>@switchfoot http://twitpic.com/2y1zl - Awww, t...</td>\n",
       "      <td>Mon Apr 06 22:19:45 PDT 2009</td>\n",
       "      <td>_TheSpecialOne_</td>\n",
       "      <td>0</td>\n",
       "      <td>NO_QUERY</td>\n",
       "      <td>0</td>\n",
       "    </tr>\n",
       "    <tr>\n",
       "      <th>1</th>\n",
       "      <td>is upset that he can't update his Facebook by ...</td>\n",
       "      <td>Mon Apr 06 22:19:49 PDT 2009</td>\n",
       "      <td>scotthamilton</td>\n",
       "      <td>0</td>\n",
       "      <td>NO_QUERY</td>\n",
       "      <td>0</td>\n",
       "    </tr>\n",
       "    <tr>\n",
       "      <th>2</th>\n",
       "      <td>@Kenichan I dived many times for the ball. Man...</td>\n",
       "      <td>Mon Apr 06 22:19:53 PDT 2009</td>\n",
       "      <td>mattycus</td>\n",
       "      <td>0</td>\n",
       "      <td>NO_QUERY</td>\n",
       "      <td>0</td>\n",
       "    </tr>\n",
       "    <tr>\n",
       "      <th>3</th>\n",
       "      <td>my whole body feels itchy and like its on fire</td>\n",
       "      <td>Mon Apr 06 22:19:57 PDT 2009</td>\n",
       "      <td>ElleCTF</td>\n",
       "      <td>0</td>\n",
       "      <td>NO_QUERY</td>\n",
       "      <td>0</td>\n",
       "    </tr>\n",
       "    <tr>\n",
       "      <th>4</th>\n",
       "      <td>@nationwideclass no, it's not behaving at all....</td>\n",
       "      <td>Mon Apr 06 22:19:57 PDT 2009</td>\n",
       "      <td>Karoli</td>\n",
       "      <td>0</td>\n",
       "      <td>NO_QUERY</td>\n",
       "      <td>0</td>\n",
       "    </tr>\n",
       "  </tbody>\n",
       "</table>\n",
       "</div>"
      ],
      "text/plain": [
       "                                                text  \\\n",
       "0  @switchfoot http://twitpic.com/2y1zl - Awww, t...   \n",
       "1  is upset that he can't update his Facebook by ...   \n",
       "2  @Kenichan I dived many times for the ball. Man...   \n",
       "3    my whole body feels itchy and like its on fire    \n",
       "4  @nationwideclass no, it's not behaving at all....   \n",
       "\n",
       "                           date             user  sentiment     query  label  \n",
       "0  Mon Apr 06 22:19:45 PDT 2009  _TheSpecialOne_          0  NO_QUERY      0  \n",
       "1  Mon Apr 06 22:19:49 PDT 2009    scotthamilton          0  NO_QUERY      0  \n",
       "2  Mon Apr 06 22:19:53 PDT 2009         mattycus          0  NO_QUERY      0  \n",
       "3  Mon Apr 06 22:19:57 PDT 2009          ElleCTF          0  NO_QUERY      0  \n",
       "4  Mon Apr 06 22:19:57 PDT 2009           Karoli          0  NO_QUERY      0  "
      ]
     },
     "execution_count": 3,
     "metadata": {},
     "output_type": "execute_result"
    }
   ],
   "source": [
    "# Convert to pandas DataFrame for easier manipulation\n",
    "df = df.to_pandas()\n",
    "\n",
    "# Label Encoding, sentiment column binary classification\n",
    "df['label'] = df['sentiment'].replace({0: 0, 4: 1})\n",
    "\n",
    "df.head()"
   ]
  },
  {
   "cell_type": "code",
   "execution_count": 4,
   "id": "6a0e1ab0",
   "metadata": {},
   "outputs": [
    {
     "name": "stderr",
     "output_type": "stream",
     "text": [
      "[nltk_data] Downloading package stopwords to\n",
      "[nltk_data]     C:\\Users\\Joey\\AppData\\Roaming\\nltk_data...\n",
      "[nltk_data]   Package stopwords is already up-to-date!\n",
      "[nltk_data] Downloading package wordnet to\n",
      "[nltk_data]     C:\\Users\\Joey\\AppData\\Roaming\\nltk_data...\n",
      "[nltk_data]   Package wordnet is already up-to-date!\n"
     ]
    }
   ],
   "source": [
    "# Preprocess text data using lemmatization\n",
    "\n",
    "nltk.download('stopwords')\n",
    "nltk.download('wordnet')\n",
    "\n",
    "stop_words = set(stopwords.words('english'))\n",
    "lemmatizer = WordNetLemmatizer()\n",
    "\n",
    "def preprocess_text(text):\n",
    "    if not isinstance(text, str):\n",
    "        return \"\"\n",
    "\n",
    "    text = text.lower()\n",
    "    text = re.sub(r\"http\\S+|www\\S+|https\\S+\", '', text, flags=re.MULTILINE)  # remove URLs\n",
    "    text = re.sub(r'\\@\\w+|\\#','', text)  # remove mentions and hashtags\n",
    "    text = re.sub(r'\\d+', '', text)  # remove numbers\n",
    "    text = text.translate(str.maketrans('', '', string.punctuation))  # remove punctuation\n",
    "    tokens = text.split()\n",
    "    tokens = [lemmatizer.lemmatize(word) for word in tokens if word not in stop_words]\n",
    "    return \" \".join(tokens)\n",
    "\n",
    "df['clean_text'] = df['text'].apply(preprocess_text)"
   ]
  },
  {
   "cell_type": "code",
   "execution_count": 5,
   "id": "f25cc58f",
   "metadata": {},
   "outputs": [
    {
     "name": "stdout",
     "output_type": "stream",
     "text": [
      "(1600000,) (1600000,)\n",
      "thats bummer shoulda got david carr third day\n",
      "0\n",
      "[0 1]\n"
     ]
    }
   ],
   "source": [
    "# Distinguish predictors and target variable\n",
    "X_ = df['clean_text']\n",
    "y_ = df['label']\n",
    "\n",
    "print(X_.shape, y_.shape)\n",
    "print(X_[0])\n",
    "print(y_[0])\n",
    "print(y_.unique())"
   ]
  },
  {
   "cell_type": "code",
   "execution_count": 6,
   "id": "10912ecc",
   "metadata": {},
   "outputs": [],
   "source": [
    "'''\n",
    "Expand predictors into vectorized features\n",
    "\n",
    "We are choosing to use TF-IDF vectorization for the text data.\n",
    "With TF-IDF, we want to capture word importance across documents, \n",
    "    rather than simplly using word counts (using CountVectorizer).\n",
    "\n",
    "**Alternative Options: Word2Vec & GloVe's Twitter Embeddings (glove_url = \"http://nlp.stanford.edu/data/glove.twitter.27B.zip\")**\n",
    "'''\n",
    "\n",
    "X_train, X_test, y_train, y_test = train_test_split(X_, y_, \n",
    "                                                            test_size=0.2, \n",
    "                                                            random_state=0)\n",
    "\n",
    "# Initialize the vectorizer\n",
    "vectorizer = TfidfVectorizer(stop_words='english', max_features=10000)\n",
    "\n",
    "# Fit & transform training data\n",
    "X_train_tfidf = vectorizer.fit_transform(X_train)\n",
    "\n",
    "# Transform test data\n",
    "X_test_tfidf = vectorizer.transform(X_test)"
   ]
  },
  {
   "cell_type": "code",
   "execution_count": 7,
   "id": "2e0654a9",
   "metadata": {},
   "outputs": [
    {
     "name": "stdout",
     "output_type": "stream",
     "text": [
      "['aa' 'aaa' 'aaaa' 'aaaah' 'aaaand' 'aaah' 'aaahhh' 'aaaw' 'aah' 'aahh'\n",
      " 'aahhh' 'aargh' 'aaron' 'aaw' 'aaww' 'ab' 'abandoned' 'abbey' 'abby'\n",
      " 'abc']\n",
      "(1280000, 10000)\n"
     ]
    }
   ],
   "source": [
    "# Get feature names\n",
    "feature_names = vectorizer.get_feature_names_out()\n",
    "\n",
    "print(feature_names[:20])\n",
    "print(X_train_tfidf.shape)"
   ]
  },
  {
   "cell_type": "code",
   "execution_count": 8,
   "id": "20eff963",
   "metadata": {},
   "outputs": [
    {
     "name": "stdout",
     "output_type": "stream",
     "text": [
      "like: 0.3375342793323487\n",
      "pic: 0.5074987051768404\n",
      "thx: 0.6219441375031388\n",
      "ur: 0.4916311262978569\n"
     ]
    }
   ],
   "source": [
    "### Inspect Vectorized Content ####\n",
    "\n",
    "# Convert first tweet to dense and get non-zero values\n",
    "vector_0 = X_train_tfidf[0].toarray()[0]\n",
    "\n",
    "# Get non-zero features and their scores\n",
    "for idx, score in enumerate(vector_0):\n",
    "    if score > 0:\n",
    "        print(f\"{feature_names[idx]}: {score}\")"
   ]
  },
  {
   "cell_type": "markdown",
   "id": "abf2af42",
   "metadata": {},
   "source": [
    "## Data Exploration"
   ]
  },
  {
   "cell_type": "markdown",
   "id": "34431583",
   "metadata": {},
   "source": [
    "Check for imbalance and visualize data. "
   ]
  },
  {
   "cell_type": "code",
   "execution_count": 9,
   "id": "3ed1d959",
   "metadata": {},
   "outputs": [
    {
     "data": {
      "text/plain": [
       "label\n",
       "0    640185\n",
       "1    639815\n",
       "Name: count, dtype: int64"
      ]
     },
     "execution_count": 9,
     "metadata": {},
     "output_type": "execute_result"
    }
   ],
   "source": [
    "# Check class distribution\n",
    "y_train.value_counts()"
   ]
  },
  {
   "cell_type": "code",
   "execution_count": 10,
   "id": "f60c6551",
   "metadata": {},
   "outputs": [
    {
     "name": "stdout",
     "output_type": "stream",
     "text": [
      "Missing values per column:\n",
      "text          0\n",
      "date          0\n",
      "user          0\n",
      "sentiment     0\n",
      "query         0\n",
      "label         0\n",
      "clean_text    0\n",
      "dtype: int64\n"
     ]
    }
   ],
   "source": [
    "print(\"Missing values per column:\")\n",
    "print(df.isnull().sum())"
   ]
  },
  {
   "cell_type": "code",
   "execution_count": 11,
   "id": "92db0d41",
   "metadata": {},
   "outputs": [
    {
     "data": {
      "image/png": "[encoded data removed]",
      "text/plain": [
       "<Figure size 1000x500 with 1 Axes>"
      ]
     },
     "metadata": {},
     "output_type": "display_data"
    }
   ],
   "source": [
    "df['text_length'] = df['clean_text'].apply(len)\n",
    "\n",
    "plt.figure(figsize=(10,5))\n",
    "sns.histplot(df['text_length'], bins=50, kde=True)\n",
    "plt.title(\"Tweet Length Distribution (Pre-processed text)\")\n",
    "plt.xlabel(\"Number of Characters\")\n",
    "plt.ylabel(\"Frequency\")\n",
    "plt.show()"
   ]
  },
  {
   "cell_type": "markdown",
   "id": "3668f3f0",
   "metadata": {},
   "source": [
    "## Machine Learning Models"
   ]
  },
  {
   "cell_type": "markdown",
   "id": "9d749f51",
   "metadata": {},
   "source": [
    "The 3 models we will be evaluating are the Logisitic Regression, Multinomial Naive Bayes, and Support Vector Machine (SVM) models. These models have been chosen for their efficient performance with large datasets and their unique discriminative and probabiilistic approaches. The F1-score and accuracy are the primary performance metric we'll be comparing and improving across each of the machine learning models."
   ]
  },
  {
   "cell_type": "markdown",
   "id": "b530af12",
   "metadata": {},
   "source": [
    "### Logistic Regression"
   ]
  },
  {
   "cell_type": "code",
   "execution_count": 12,
   "id": "3f6dd186",
   "metadata": {},
   "outputs": [],
   "source": [
    "LR = LogisticRegression(max_iter=1000, random_state=0)\n",
    "\n",
    "param_grid = {'C': [0.1, 1, 10],\n",
    "              'solver': ['sag', 'saga']\n",
    "              }\n",
    "\n",
    "grid_search = GridSearchCV(estimator=LR,\n",
    "                           param_grid=param_grid,\n",
    "                           cv=5,\n",
    "                           n_jobs=-1)\n",
    "\n",
    "grid_search.fit(X_train_tfidf, y_train)\n",
    "\n",
    "best_LR = grid_search.best_estimator_"
   ]
  },
  {
   "cell_type": "code",
   "execution_count": 13,
   "id": "3598eebe",
   "metadata": {},
   "outputs": [
    {
     "name": "stdout",
     "output_type": "stream",
     "text": [
      "Best Params: {'C': 1, 'solver': 'saga'}\n",
      "[[119177  40638]\n",
      " [ 32602 127583]]\n",
      "              precision    recall  f1-score   support\n",
      "\n",
      "           0       0.79      0.75      0.76    159815\n",
      "           1       0.76      0.80      0.78    160185\n",
      "\n",
      "    accuracy                           0.77    320000\n",
      "   macro avg       0.77      0.77      0.77    320000\n",
      "weighted avg       0.77      0.77      0.77    320000\n",
      "\n"
     ]
    }
   ],
   "source": [
    "y_hat = best_LR.predict(X_test_tfidf)\n",
    "\n",
    "# Compute Performance metrics\n",
    "conf_matrix = confusion_matrix(y_test, y_hat)\n",
    "\n",
    "print(\"Best Params:\", grid_search.best_params_)\n",
    "print(conf_matrix)\n",
    "print(classification_report(y_test, y_hat))"
   ]
  },
  {
   "cell_type": "markdown",
   "id": "dfaa94d7",
   "metadata": {},
   "source": [
    "### Multinomial Naive Bayes"
   ]
  },
  {
   "cell_type": "code",
   "execution_count": 14,
   "id": "a540aa0a",
   "metadata": {},
   "outputs": [
    {
     "name": "stdout",
     "output_type": "stream",
     "text": [
      "Fitting 3 folds for each of 18 candidates, totalling 54 fits\n"
     ]
    }
   ],
   "source": [
    "# Apply Multinomial Naive Bayes Classifier\n",
    "nb = MultinomialNB()\n",
    "\n",
    "param_grid = {'alpha': [4.0, 5.0, 6.0],\n",
    "              'fit_prior': [True, False],\n",
    "              'class_prior': [None, [0.5, 0.5], [0.7, 0.3]]\n",
    "              }\n",
    "\n",
    "grid_search = GridSearchCV(estimator=nb,\n",
    "                           param_grid=param_grid,\n",
    "                           cv=3,\n",
    "                           scoring='f1',\n",
    "                           n_jobs=-1,\n",
    "                           verbose=1)\n",
    "\n",
    "# Fit on training data\n",
    "grid_search.fit(X_train_tfidf, y_train)\n",
    "\n",
    "best_NB = grid_search.best_estimator_"
   ]
  },
  {
   "cell_type": "code",
   "execution_count": 15,
   "id": "b468521e",
   "metadata": {},
   "outputs": [
    {
     "name": "stdout",
     "output_type": "stream",
     "text": [
      "Best Params: {'alpha': 6.0, 'class_prior': None, 'fit_prior': False}\n",
      "[[121708  38107]\n",
      " [ 39223 120962]]\n",
      "              precision    recall  f1-score   support\n",
      "\n",
      "           0       0.76      0.76      0.76    159815\n",
      "           1       0.76      0.76      0.76    160185\n",
      "\n",
      "    accuracy                           0.76    320000\n",
      "   macro avg       0.76      0.76      0.76    320000\n",
      "weighted avg       0.76      0.76      0.76    320000\n",
      "\n"
     ]
    }
   ],
   "source": [
    "y_hat = best_NB.predict(X_test_tfidf)\n",
    "\n",
    "# Compute Performance metrics\n",
    "conf_matrix = confusion_matrix(y_test, y_hat)\n",
    "\n",
    "print(\"Best Params:\", grid_search.best_params_)\n",
    "print(conf_matrix)\n",
    "print(classification_report(y_test, y_hat))"
   ]
  },
  {
   "cell_type": "markdown",
   "id": "97582a04",
   "metadata": {},
   "source": [
    "### Linear Support Vector Machine (SVM)"
   ]
  },
  {
   "cell_type": "code",
   "execution_count": 16,
   "id": "edabba7f",
   "metadata": {},
   "outputs": [
    {
     "name": "stdout",
     "output_type": "stream",
     "text": [
      "Fitting 3 folds for each of 12 candidates, totalling 36 fits\n"
     ]
    }
   ],
   "source": [
    "svm = LinearSVC(random_state=0)\n",
    "param_grid = {'penalty': ['l1', 'l2'],\n",
    "              'C': [0.1, 1, 10],\n",
    "              'max_iter': [1000, 2000],\n",
    "              'dual': [False]\n",
    "              }\n",
    "\n",
    "grid_search = GridSearchCV(estimator=svm,\n",
    "                           param_grid=param_grid,\n",
    "                           cv=3,\n",
    "                           scoring='f1',\n",
    "                           n_jobs=-1,\n",
    "                           verbose=1)\n",
    "\n",
    "# Fit on training data\n",
    "grid_search.fit(X_train_tfidf, y_train)\n",
    "\n",
    "best_SVM = grid_search.best_estimator_"
   ]
  },
  {
   "cell_type": "code",
   "execution_count": 17,
   "id": "a663d638",
   "metadata": {},
   "outputs": [
    {
     "name": "stdout",
     "output_type": "stream",
     "text": [
      "Best Params: {'C': 0.1, 'dual': False, 'max_iter': 1000, 'penalty': 'l1'}\n",
      "[[117616  42199]\n",
      " [ 31364 128821]]\n",
      "              precision    recall  f1-score   support\n",
      "\n",
      "           0       0.79      0.74      0.76    159815\n",
      "           1       0.75      0.80      0.78    160185\n",
      "\n",
      "    accuracy                           0.77    320000\n",
      "   macro avg       0.77      0.77      0.77    320000\n",
      "weighted avg       0.77      0.77      0.77    320000\n",
      "\n"
     ]
    }
   ],
   "source": [
    "y_hat = best_SVM.predict(X_test_tfidf)\n",
    "\n",
    "# Compute Performance metrics\n",
    "conf_matrix = confusion_matrix(y_test, y_hat)\n",
    "\n",
    "print(\"Best Params:\", grid_search.best_params_)\n",
    "print(conf_matrix)\n",
    "print(classification_report(y_test, y_hat))"
   ]
  },
  {
   "cell_type": "markdown",
   "id": "298610be",
   "metadata": {},
   "source": [
    "### Conclusion of Machine Learning Models"
   ]
  },
  {
   "cell_type": "markdown",
   "id": "abd197e0",
   "metadata": {},
   "source": [
    "We began by pre-processing the data to remove noise from the tweets, such as URLs, hashtags, and other non-informative elements. Then, we applied TF-IDF vectorrization, producing sparse matrices for creating raw text into numerical features, thus capturing the importance of words within individual tweets relative to the corpus. Lastly, this cleaned & vectorized data is used to train the models, yielding F1 scores: \n",
    "\n",
    "- Logisitic Regression: 78%\n",
    "- Multinomial Naive Bayes: 76%\n",
    "- Support Vector Model: 78%\n",
    "\n",
    "Based on the confusion matrices, the Logisitic Regression model demonstrated the best balanced and reliable performance. "
   ]
  },
  {
   "cell_type": "markdown",
   "id": "1c7d8ddd",
   "metadata": {},
   "source": [
    "## Twitter Live Feed Integration (Twitter API and Machine Learning Model)"
   ]
  },
  {
   "cell_type": "markdown",
   "id": "67645f88",
   "metadata": {},
   "source": [
    "We will use the Logisitic Regression Classifier to integrate into the Twitter API. "
   ]
  },
  {
   "cell_type": "code",
   "execution_count": 18,
   "id": "2334d29e",
   "metadata": {},
   "outputs": [
    {
     "name": "stdout",
     "output_type": "stream",
     "text": [
      "                                              tweets  author_id  \\\n",
      "0  \"Welcome to the first meeting of the White Hou...        NaN   \n",
      "1  🇺🇸 Steve Witkoff @SE_MiddleEast has officially...        NaN   \n",
      "2  RT @VP: The Evening Parade is a longstanding t...        NaN   \n",
      "3  \"Our country is blessed to have a negotiator o...        NaN   \n",
      "4  RT @MarkJCarney: Thank you to President Trump ...        NaN   \n",
      "\n",
      "                    id  length  created_at  source  geo  attachments  \n",
      "0  1919923837195485198     261         NaN     NaN  NaN          NaN  \n",
      "1  1919923718202998916     158         NaN     NaN  NaN          NaN  \n",
      "2  1919920715463045325     140         NaN     NaN  NaN          NaN  \n",
      "3  1919904093071389060     300         NaN     NaN  NaN          NaN  \n",
      "4  1919877881880060350     140         NaN     NaN  NaN          NaN  \n"
     ]
    }
   ],
   "source": [
    "'''\n",
    "Twitter API Client (Get Tweets)\n",
    "- Get tweets from Twitter API by running 'twitter_pipeline.py' module\n",
    "- After properly authenticating, we get the tweets and they are stored in 'tweets_output.txt'\n",
    "'''\n",
    "\n",
    "streamed_tweets = pd.read_csv(\"tweets_output.txt\", sep=\"\\t\")\n",
    "print(streamed_tweets.head())"
   ]
  },
  {
   "cell_type": "code",
   "execution_count": 19,
   "id": "4e053180",
   "metadata": {},
   "outputs": [
    {
     "name": "stdout",
     "output_type": "stream",
     "text": [
      "(15, 10000)\n",
      "[1 1 1 1 1 1 0 1 1 1 1 0 0 1 1]\n"
     ]
    }
   ],
   "source": [
    "streamed_tweets['tweets'] = streamed_tweets['tweets'].apply(preprocess_text)\n",
    "X_streamed = streamed_tweets['tweets']\n",
    "X_streamed_tfidf = vectorizer.transform(X_streamed)\n",
    "print(X_streamed_tfidf.shape)\n",
    "\n",
    "# Predict sentiment of streamed tweets \n",
    "y_streamed_hat = best_LR.predict(X_streamed_tfidf)\n",
    "print(y_streamed_hat)\n",
    "streamed_tweets['predicted_label'] = y_streamed_hat"
   ]
  },
  {
   "cell_type": "code",
   "execution_count": 20,
   "id": "52928dc9",
   "metadata": {},
   "outputs": [
    {
     "name": "stdout",
     "output_type": "stream",
     "text": [
      "Positive Sentiment Tweets:\n",
      "0     welcome first meeting white house fifa task fo...\n",
      "1     🇺🇸 steve witkoff officially sworn oval office ...\n",
      "2     rt evening parade longstanding tradition marin...\n",
      "3     country blessed negotiator skill experience re...\n",
      "4     rt thank president trump inviting white house ...\n",
      "5     great honor prime minister u day ago big elect...\n",
      "7     rt don’t need energy transition need energy ad...\n",
      "8                                    rt energy price 🇺🇸\n",
      "9     rt thanks hardworking partner canceling wastef...\n",
      "10    rt message clear dhs enforce law put safety am...\n",
      "13    rt 🏆 award show like 📸 scene smallbusinessweek...\n",
      "14    president trump vance fifa president gianni in...\n",
      "Name: tweets, dtype: object\n",
      "\n",
      "Negative Sentiment Tweets:\n",
      "6     rt sgt brian lieberman ran toward gunfire save...\n",
      "11    rt even know air traffic control problem isn’t...\n",
      "12    rt played political game expense air traffic c...\n",
      "Name: tweets, dtype: object\n"
     ]
    }
   ],
   "source": [
    "print(\"Positive Sentiment Tweets:\")\n",
    "print(streamed_tweets.loc[streamed_tweets['predicted_label'] == 1, 'tweets'])\n",
    "print(\"\\nNegative Sentiment Tweets:\")\n",
    "print(streamed_tweets.loc[streamed_tweets['predicted_label'] == 0, 'tweets'])"
   ]
  },
  {
   "cell_type": "code",
   "execution_count": null,
   "id": "5a86ed26",
   "metadata": {},
   "outputs": [],
   "source": []
  }
 ],
 "metadata": {
  "kernelspec": {
   "display_name": "Python 3",
   "language": "python",
   "name": "python3"
  },
  "language_info": {
   "codemirror_mode": {
    "name": "ipython",
    "version": 3
   },
   "file_extension": ".py",
   "mimetype": "text/x-python",
   "name": "python",
   "nbconvert_exporter": "python",
   "pygments_lexer": "ipython3",
   "version": "3.9.22"
  }
 },
 "nbformat": 4,
 "nbformat_minor": 5
}
